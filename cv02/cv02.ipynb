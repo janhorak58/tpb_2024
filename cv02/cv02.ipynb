{
 "cells": [
  {
   "cell_type": "code",
   "execution_count": 1,
   "metadata": {},
   "outputs": [],
   "source": [
    "import json\n",
    "\n",
    "def load_articles_from_file(file):\n",
    "    \"\"\"Načte články ze souboru.\"\"\"\n",
    "    with open(file, 'r') as f:\n",
    "        articles = json.load(f)\n",
    "    return articles\n",
    "\n",
    "\n",
    "articles = load_articles_from_file(\"articles.json\")\n",
    "\n",
    " \n",
    "    \n"
   ]
  },
  {
   "cell_type": "code",
   "execution_count": 2,
   "metadata": {},
   "outputs": [
    {
     "name": "stdout",
     "output_type": "stream",
     "text": [
      "Počet článků: 393227\n"
     ]
    }
   ],
   "source": [
    "# 1. Výpis počtu článků\n",
    "print(f\"Počet článků: {len(articles)}\")"
   ]
  },
  {
   "cell_type": "code",
   "execution_count": 31,
   "metadata": {},
   "outputs": [
    {
     "name": "stdout",
     "output_type": "stream",
     "text": [
      "Počet duplicitních článků: 21698\n",
      "v %: 5.69%\n"
     ]
    }
   ],
   "source": [
    "\n",
    "# 2. Výpis počtu duplicitních článků\n",
    "# Mají stejný název\n",
    "titles = [article[\"title\"] for article in articles]\n",
    "duplicates = len(titles) - len(set(titles))\n",
    "print(f\"Počet duplicitních článků: {duplicates}\")\n",
    "print(f\"v %: {duplicates/len(articles)*100:.2f}%\")"
   ]
  },
  {
   "cell_type": "code",
   "execution_count": 4,
   "metadata": {},
   "outputs": [
    {
     "name": "stdout",
     "output_type": "stream",
     "text": [
      "Nejstarší článek: 27.01.1998\n"
     ]
    }
   ],
   "source": [
    "# 3. Vypsat datum nejstaršího článku\n",
    "# \"date_published\": \"2006-08-21T12:12:52+02:00\"\n",
    "import datetime\n",
    "dates = [article[\"date_published\"] for article in articles]\n",
    "datetime_dates = []\n",
    "errcount = 0\n",
    "for i, date in enumerate(dates):\n",
    "    try:\n",
    "        datetime_dates.append(datetime.datetime.strptime(date, \"%Y-%m-%dT%H:%M:%S%z\"))\n",
    "    except:\n",
    "        pass\n",
    "oldest_date = min(datetime_dates)\n",
    "print(f\"Nejstarší článek: {oldest_date.strftime('%d.%m.%Y')}\")\n"
   ]
  },
  {
   "cell_type": "code",
   "execution_count": 5,
   "metadata": {},
   "outputs": [
    {
     "name": "stdout",
     "output_type": "stream",
     "text": [
      "Článek s nejvíce komentáři: Zemřel Adamec, komunista, který předal moc Havlovi má 611811 komentářů\n"
     ]
    }
   ],
   "source": [
    "\n",
    "\n",
    "\n",
    "# Vypsat jméno článku s nejvíce komentáři\n",
    "comments = [article[\"comments\"] for article in articles]\n",
    "max_comments = max(comments)\n",
    "article_index = comments.index(max_comments)\n",
    "article_title = articles[article_index][\"title\"]\n",
    "print(f\"Článek s nejvíce komentáři: {article_title} má {max_comments} komentářů\")\n"
   ]
  },
  {
   "cell_type": "code",
   "execution_count": 6,
   "metadata": {},
   "outputs": [
    {
     "name": "stdout",
     "output_type": "stream",
     "text": [
      "Článek s nejvíce fotkami: Zneškodnili jsme dva vysoce postavené členy Hamásu, hlásí izraelská armáda má 400 fotek\n"
     ]
    }
   ],
   "source": [
    "\n",
    "\n",
    "# Vypište nejvyšší počet přidaných fotek v jednom článku\n",
    "images = [article[\"image_count\"] for article in articles]\n",
    "max_images = max(images)\n",
    "article_index = images.index(max_images)\n",
    "article_title = articles[article_index][\"title\"]\n",
    "print(f\"Článek s nejvíce fotkami: {article_title} má {max_images} fotek\")\n"
   ]
  },
  {
   "cell_type": "code",
   "execution_count": 7,
   "metadata": {},
   "outputs": [
    {
     "name": "stdout",
     "output_type": "stream",
     "text": [
      "Počty článků podle roku publikace:\n",
      "1998: 1044\n",
      "1999: 3447\n",
      "2000: 5628\n",
      "2001: 13608\n",
      "2002: 9907\n",
      "2003: 9439\n",
      "2004: 9749\n",
      "2005: 10113\n",
      "2006: 10167\n",
      "2007: 14558\n",
      "2008: 15445\n",
      "2009: 17644\n",
      "2010: 18346\n",
      "2011: 36164\n",
      "2012: 18727\n",
      "2013: 16902\n",
      "2014: 14451\n",
      "2015: 16122\n",
      "2016: 18496\n",
      "2017: 16479\n",
      "2018: 16329\n",
      "2019: 15002\n",
      "2020: 16534\n",
      "2021: 17191\n",
      "2022: 16918\n",
      "2023: 17481\n",
      "2024: 16999\n"
     ]
    },
    {
     "data": {
      "image/png": "[encoded data removed]",
      "text/plain": [
       "<Figure size 640x480 with 1 Axes>"
      ]
     },
     "metadata": {},
     "output_type": "display_data"
    }
   ],
   "source": [
    "\n",
    "\n",
    "# Vypsat počty článků podle roku publikace\n",
    "from collections import defaultdict\n",
    "years_count = defaultdict(int)\n",
    "for date in datetime_dates:\n",
    "    years_count[date.year] += 1\n",
    "# seřadit roky\n",
    "years_count = dict(sorted(years_count.items()))\n",
    "print(\"Počty článků podle roku publikace:\")\n",
    "for year, count in years_count.items():\n",
    "    print(f\"{year}: {count}\")\n",
    "\n",
    "# Vytvořte graf počtu článků podle roku publikace\n",
    "import matplotlib.pyplot as plt\n",
    "plt.bar(years_count.keys(), years_count.values())\n",
    "plt.xlabel(\"Rok\")\n",
    "plt.ylabel(\"Počet článků\")\n",
    "plt.title(\"Počet článků podle roku publikace\")\n",
    "plt.show()\n",
    "\n",
    "\n",
    "\n",
    "    "
   ]
  },
  {
   "cell_type": "code",
   "execution_count": 12,
   "metadata": {},
   "outputs": [
    {
     "name": "stdout",
     "output_type": "stream",
     "text": [
      "Počet unikátních kategorií: 521\n",
      "Počty článků v každé kategorii:\n",
      "Domácí: 151493\n",
      "Zahraničí: 112925\n",
      "Hradec Králové: 5070\n",
      "Olomouc: 5113\n",
      "Jihlava: 3011\n",
      "Brno: 8660\n",
      "Extrémní deště a povodně 2024: 1\n",
      "Ostrava: 5755\n",
      "Liberec: 2945\n",
      "Volby: 1608\n",
      "Praha a střední Čechy: 13854\n",
      "Zlín: 3290\n",
      "Ústí nad Labem: 5088\n",
      "Karlovy Vary: 3498\n",
      "Počasí: 1\n",
      "Revue: 511\n",
      "Ekonomika: 3541\n",
      "Pardubice: 3637\n",
      "Finance: 145\n",
      "České Budějovice: 4388\n"
     ]
    },
    {
     "data": {
      "application/vnd.plotly.v1+json": {
       "config": {
        "plotlyServerURL": "https://plot.ly"
       },
       "data": [
        {
         "type": "bar",
         "x": [
          "Domácí",
          "Zahraničí",
          "Hradec Králové",
          "Olomouc",
          "Jihlava",
          "Brno",
          "Ostrava",
          "Liberec",
          "Volby",
          "Praha a střední Čechy",
          "Zlín",
          "Ústí nad Labem",
          "Karlovy Vary",
          "Ekonomika",
          "Pardubice",
          "České Budějovice",
          "Plzeň",
          "Unknown Category",
          "Krimi"
         ],
         "y": [
          151493,
          112925,
          5070,
          5113,
          3011,
          8660,
          5755,
          2945,
          1608,
          13854,
          3290,
          5088,
          3498,
          3541,
          3637,
          4388,
          5357,
          10503,
          39218
         ]
        }
       ],
       "layout": {
        "template": {
         "data": {
          "bar": [
           {
            "error_x": {
             "color": "#2a3f5f"
            },
            "error_y": {
             "color": "#2a3f5f"
            },
            "marker": {
             "line": {
              "color": "#E5ECF6",
              "width": 0.5
             },
             "pattern": {
              "fillmode": "overlay",
              "size": 10,
              "solidity": 0.2
             }
            },
            "type": "bar"
           }
          ],
          "barpolar": [
           {
            "marker": {
             "line": {
              "color": "#E5ECF6",
              "width": 0.5
             },
             "pattern": {
              "fillmode": "overlay",
              "size": 10,
              "solidity": 0.2
             }
            },
            "type": "barpolar"
           }
          ],
          "carpet": [
           {
            "aaxis": {
             "endlinecolor": "#2a3f5f",
             "gridcolor": "white",
             "linecolor": "white",
             "minorgridcolor": "white",
             "startlinecolor": "#2a3f5f"
            },
            "baxis": {
             "endlinecolor": "#2a3f5f",
             "gridcolor": "white",
             "linecolor": "white",
             "minorgridcolor": "white",
             "startlinecolor": "#2a3f5f"
            },
            "type": "carpet"
           }
          ],
          "choropleth": [
           {
            "colorbar": {
             "outlinewidth": 0,
             "ticks": ""
            },
            "type": "choropleth"
           }
          ],
          "contour": [
           {
            "colorbar": {
             "outlinewidth": 0,
             "ticks": ""
            },
            "colorscale": [
             [
              0,
              "#0d0887"
             ],
             [
              0.1111111111111111,
              "#46039f"
             ],
             [
              0.2222222222222222,
              "#7201a8"
             ],
             [
              0.3333333333333333,
              "#9c179e"
             ],
             [
              0.4444444444444444,
              "#bd3786"
             ],
             [
              0.5555555555555556,
              "#d8576b"
             ],
             [
              0.6666666666666666,
              "#ed7953"
             ],
             [
              0.7777777777777778,
              "#fb9f3a"
             ],
             [
              0.8888888888888888,
              "#fdca26"
             ],
             [
              1,
              "#f0f921"
             ]
            ],
            "type": "contour"
           }
          ],
          "contourcarpet": [
           {
            "colorbar": {
             "outlinewidth": 0,
             "ticks": ""
            },
            "type": "contourcarpet"
           }
          ],
          "heatmap": [
           {
            "colorbar": {
             "outlinewidth": 0,
             "ticks": ""
            },
            "colorscale": [
             [
              0,
              "#0d0887"
             ],
             [
              0.1111111111111111,
              "#46039f"
             ],
             [
              0.2222222222222222,
              "#7201a8"
             ],
             [
              0.3333333333333333,
              "#9c179e"
             ],
             [
              0.4444444444444444,
              "#bd3786"
             ],
             [
              0.5555555555555556,
              "#d8576b"
             ],
             [
              0.6666666666666666,
              "#ed7953"
             ],
             [
              0.7777777777777778,
              "#fb9f3a"
             ],
             [
              0.8888888888888888,
              "#fdca26"
             ],
             [
              1,
              "#f0f921"
             ]
            ],
            "type": "heatmap"
           }
          ],
          "heatmapgl": [
           {
            "colorbar": {
             "outlinewidth": 0,
             "ticks": ""
            },
            "colorscale": [
             [
              0,
              "#0d0887"
             ],
             [
              0.1111111111111111,
              "#46039f"
             ],
             [
              0.2222222222222222,
              "#7201a8"
             ],
             [
              0.3333333333333333,
              "#9c179e"
             ],
             [
              0.4444444444444444,
              "#bd3786"
             ],
             [
              0.5555555555555556,
              "#d8576b"
             ],
             [
              0.6666666666666666,
              "#ed7953"
             ],
             [
              0.7777777777777778,
              "#fb9f3a"
             ],
             [
              0.8888888888888888,
              "#fdca26"
             ],
             [
              1,
              "#f0f921"
             ]
            ],
            "type": "heatmapgl"
           }
          ],
          "histogram": [
           {
            "marker": {
             "pattern": {
              "fillmode": "overlay",
              "size": 10,
              "solidity": 0.2
             }
            },
            "type": "histogram"
           }
          ],
          "histogram2d": [
           {
            "colorbar": {
             "outlinewidth": 0,
             "ticks": ""
            },
            "colorscale": [
             [
              0,
              "#0d0887"
             ],
             [
              0.1111111111111111,
              "#46039f"
             ],
             [
              0.2222222222222222,
              "#7201a8"
             ],
             [
              0.3333333333333333,
              "#9c179e"
             ],
             [
              0.4444444444444444,
              "#bd3786"
             ],
             [
              0.5555555555555556,
              "#d8576b"
             ],
             [
              0.6666666666666666,
              "#ed7953"
             ],
             [
              0.7777777777777778,
              "#fb9f3a"
             ],
             [
              0.8888888888888888,
              "#fdca26"
             ],
             [
              1,
              "#f0f921"
             ]
            ],
            "type": "histogram2d"
           }
          ],
          "histogram2dcontour": [
           {
            "colorbar": {
             "outlinewidth": 0,
             "ticks": ""
            },
            "colorscale": [
             [
              0,
              "#0d0887"
             ],
             [
              0.1111111111111111,
              "#46039f"
             ],
             [
              0.2222222222222222,
              "#7201a8"
             ],
             [
              0.3333333333333333,
              "#9c179e"
             ],
             [
              0.4444444444444444,
              "#bd3786"
             ],
             [
              0.5555555555555556,
              "#d8576b"
             ],
             [
              0.6666666666666666,
              "#ed7953"
             ],
             [
              0.7777777777777778,
              "#fb9f3a"
             ],
             [
              0.8888888888888888,
              "#fdca26"
             ],
             [
              1,
              "#f0f921"
             ]
            ],
            "type": "histogram2dcontour"
           }
          ],
          "mesh3d": [
           {
            "colorbar": {
             "outlinewidth": 0,
             "ticks": ""
            },
            "type": "mesh3d"
           }
          ],
          "parcoords": [
           {
            "line": {
             "colorbar": {
              "outlinewidth": 0,
              "ticks": ""
             }
            },
            "type": "parcoords"
           }
          ],
          "pie": [
           {
            "automargin": true,
            "type": "pie"
           }
          ],
          "scatter": [
           {
            "fillpattern": {
             "fillmode": "overlay",
             "size": 10,
             "solidity": 0.2
            },
            "type": "scatter"
           }
          ],
          "scatter3d": [
           {
            "line": {
             "colorbar": {
              "outlinewidth": 0,
              "ticks": ""
             }
            },
            "marker": {
             "colorbar": {
              "outlinewidth": 0,
              "ticks": ""
             }
            },
            "type": "scatter3d"
           }
          ],
          "scattercarpet": [
           {
            "marker": {
             "colorbar": {
              "outlinewidth": 0,
              "ticks": ""
             }
            },
            "type": "scattercarpet"
           }
          ],
          "scattergeo": [
           {
            "marker": {
             "colorbar": {
              "outlinewidth": 0,
              "ticks": ""
             }
            },
            "type": "scattergeo"
           }
          ],
          "scattergl": [
           {
            "marker": {
             "colorbar": {
              "outlinewidth": 0,
              "ticks": ""
             }
            },
            "type": "scattergl"
           }
          ],
          "scattermapbox": [
           {
            "marker": {
             "colorbar": {
              "outlinewidth": 0,
              "ticks": ""
             }
            },
            "type": "scattermapbox"
           }
          ],
          "scatterpolar": [
           {
            "marker": {
             "colorbar": {
              "outlinewidth": 0,
              "ticks": ""
             }
            },
            "type": "scatterpolar"
           }
          ],
          "scatterpolargl": [
           {
            "marker": {
             "colorbar": {
              "outlinewidth": 0,
              "ticks": ""
             }
            },
            "type": "scatterpolargl"
           }
          ],
          "scatterternary": [
           {
            "marker": {
             "colorbar": {
              "outlinewidth": 0,
              "ticks": ""
             }
            },
            "type": "scatterternary"
           }
          ],
          "surface": [
           {
            "colorbar": {
             "outlinewidth": 0,
             "ticks": ""
            },
            "colorscale": [
             [
              0,
              "#0d0887"
             ],
             [
              0.1111111111111111,
              "#46039f"
             ],
             [
              0.2222222222222222,
              "#7201a8"
             ],
             [
              0.3333333333333333,
              "#9c179e"
             ],
             [
              0.4444444444444444,
              "#bd3786"
             ],
             [
              0.5555555555555556,
              "#d8576b"
             ],
             [
              0.6666666666666666,
              "#ed7953"
             ],
             [
              0.7777777777777778,
              "#fb9f3a"
             ],
             [
              0.8888888888888888,
              "#fdca26"
             ],
             [
              1,
              "#f0f921"
             ]
            ],
            "type": "surface"
           }
          ],
          "table": [
           {
            "cells": {
             "fill": {
              "color": "#EBF0F8"
             },
             "line": {
              "color": "white"
             }
            },
            "header": {
             "fill": {
              "color": "#C8D4E3"
             },
             "line": {
              "color": "white"
             }
            },
            "type": "table"
           }
          ]
         },
         "layout": {
          "annotationdefaults": {
           "arrowcolor": "#2a3f5f",
           "arrowhead": 0,
           "arrowwidth": 1
          },
          "autotypenumbers": "strict",
          "coloraxis": {
           "colorbar": {
            "outlinewidth": 0,
            "ticks": ""
           }
          },
          "colorscale": {
           "diverging": [
            [
             0,
             "#8e0152"
            ],
            [
             0.1,
             "#c51b7d"
            ],
            [
             0.2,
             "#de77ae"
            ],
            [
             0.3,
             "#f1b6da"
            ],
            [
             0.4,
             "#fde0ef"
            ],
            [
             0.5,
             "#f7f7f7"
            ],
            [
             0.6,
             "#e6f5d0"
            ],
            [
             0.7,
             "#b8e186"
            ],
            [
             0.8,
             "#7fbc41"
            ],
            [
             0.9,
             "#4d9221"
            ],
            [
             1,
             "#276419"
            ]
           ],
           "sequential": [
            [
             0,
             "#0d0887"
            ],
            [
             0.1111111111111111,
             "#46039f"
            ],
            [
             0.2222222222222222,
             "#7201a8"
            ],
            [
             0.3333333333333333,
             "#9c179e"
            ],
            [
             0.4444444444444444,
             "#bd3786"
            ],
            [
             0.5555555555555556,
             "#d8576b"
            ],
            [
             0.6666666666666666,
             "#ed7953"
            ],
            [
             0.7777777777777778,
             "#fb9f3a"
            ],
            [
             0.8888888888888888,
             "#fdca26"
            ],
            [
             1,
             "#f0f921"
            ]
           ],
           "sequentialminus": [
            [
             0,
             "#0d0887"
            ],
            [
             0.1111111111111111,
             "#46039f"
            ],
            [
             0.2222222222222222,
             "#7201a8"
            ],
            [
             0.3333333333333333,
             "#9c179e"
            ],
            [
             0.4444444444444444,
             "#bd3786"
            ],
            [
             0.5555555555555556,
             "#d8576b"
            ],
            [
             0.6666666666666666,
             "#ed7953"
            ],
            [
             0.7777777777777778,
             "#fb9f3a"
            ],
            [
             0.8888888888888888,
             "#fdca26"
            ],
            [
             1,
             "#f0f921"
            ]
           ]
          },
          "colorway": [
           "#636efa",
           "#EF553B",
           "#00cc96",
           "#ab63fa",
           "#FFA15A",
           "#19d3f3",
           "#FF6692",
           "#B6E880",
           "#FF97FF",
           "#FECB52"
          ],
          "font": {
           "color": "#2a3f5f"
          },
          "geo": {
           "bgcolor": "white",
           "lakecolor": "white",
           "landcolor": "#E5ECF6",
           "showlakes": true,
           "showland": true,
           "subunitcolor": "white"
          },
          "hoverlabel": {
           "align": "left"
          },
          "hovermode": "closest",
          "mapbox": {
           "style": "light"
          },
          "paper_bgcolor": "white",
          "plot_bgcolor": "#E5ECF6",
          "polar": {
           "angularaxis": {
            "gridcolor": "white",
            "linecolor": "white",
            "ticks": ""
           },
           "bgcolor": "#E5ECF6",
           "radialaxis": {
            "gridcolor": "white",
            "linecolor": "white",
            "ticks": ""
           }
          },
          "scene": {
           "xaxis": {
            "backgroundcolor": "#E5ECF6",
            "gridcolor": "white",
            "gridwidth": 2,
            "linecolor": "white",
            "showbackground": true,
            "ticks": "",
            "zerolinecolor": "white"
           },
           "yaxis": {
            "backgroundcolor": "#E5ECF6",
            "gridcolor": "white",
            "gridwidth": 2,
            "linecolor": "white",
            "showbackground": true,
            "ticks": "",
            "zerolinecolor": "white"
           },
           "zaxis": {
            "backgroundcolor": "#E5ECF6",
            "gridcolor": "white",
            "gridwidth": 2,
            "linecolor": "white",
            "showbackground": true,
            "ticks": "",
            "zerolinecolor": "white"
           }
          },
          "shapedefaults": {
           "line": {
            "color": "#2a3f5f"
           }
          },
          "ternary": {
           "aaxis": {
            "gridcolor": "white",
            "linecolor": "white",
            "ticks": ""
           },
           "baxis": {
            "gridcolor": "white",
            "linecolor": "white",
            "ticks": ""
           },
           "bgcolor": "#E5ECF6",
           "caxis": {
            "gridcolor": "white",
            "linecolor": "white",
            "ticks": ""
           }
          },
          "title": {
           "x": 0.05
          },
          "xaxis": {
           "automargin": true,
           "gridcolor": "white",
           "linecolor": "white",
           "ticks": "",
           "title": {
            "standoff": 15
           },
           "zerolinecolor": "white",
           "zerolinewidth": 2
          },
          "yaxis": {
           "automargin": true,
           "gridcolor": "white",
           "linecolor": "white",
           "ticks": "",
           "title": {
            "standoff": 15
           },
           "zerolinecolor": "white",
           "zerolinewidth": 2
          }
         }
        },
        "title": {
         "text": "Počet článků v každé kategorii (kategorie s 100+ články)"
        }
       }
      }
     },
     "metadata": {},
     "output_type": "display_data"
    }
   ],
   "source": [
    "# Vypište počet unikátních kategorií a počet článků v každé kategorii\n",
    "categories = [article[\"category\"] for article in articles]\n",
    "unique_categories = set(categories)\n",
    "print(f\"Počet unikátních kategorií: {len(unique_categories)}\")\n",
    "categories_count = defaultdict(int)\n",
    "for category in categories:\n",
    "    categories_count[category] += 1\n",
    "\n",
    "\n",
    "print(\"Počty článků v každé kategorii:\")\n",
    "# VYPSAT  prvních 20 kategorii s nejvyší počtem článků\n",
    "for category, count in list(categories_count.items())[:20]:\n",
    "    print(f\"{category}: {count}\")\n",
    "\n",
    "# Vytvořte graf počtu článků v každé kategorii (pouze kategorie s 100+ články)\n",
    "categories_count = {category: count for category, count in categories_count.items() if count >= 1500}\n",
    "import plotly.graph_objects as go\n",
    "fig = go.Figure(data=[go.Bar(x=list(categories_count.keys()), y=list(categories_count.values()))])\n",
    "fig.update_layout(title=\"Počet článků v každé kategorii (kategorie s 100+ články)\")\n",
    "fig.show()\n"
   ]
  },
  {
   "cell_type": "code",
   "execution_count": 14,
   "metadata": {},
   "outputs": [
    {
     "name": "stdout",
     "output_type": "stream",
     "text": [
      "5 nejčastějších slov v názvu článků z roku 2021:\n",
      "na: 3684\n",
      "v: 3632\n",
      "se: 3575\n",
      "a: 2245\n",
      "je: 1530\n"
     ]
    }
   ],
   "source": [
    "# Vypsat 5 nejčastějších slov v názvu článků z roku 2021\n",
    "titles_2021 = []\n",
    "for article in articles:\n",
    "    try:\n",
    "        if datetime.datetime.strptime(article[\"date_published\"], \"%Y-%m-%dT%H:%M:%S%z\").year == 2021:\n",
    "            titles_2021.append(article[\"title\"])\n",
    "    except ValueError:\n",
    "        continue\n",
    "\n",
    "from collections import Counter\n",
    "words = []\n",
    "for title in titles_2021:\n",
    "    words.extend(title.split())\n",
    "words_count = Counter(words)\n",
    "most_common_words = words_count.most_common(5)\n",
    "print(\"5 nejčastějších slov v názvu článků z roku 2021:\")\n",
    "for word, count in most_common_words:\n",
    "    print(f\"{word}: {count}\")"
   ]
  },
  {
   "cell_type": "code",
   "execution_count": 15,
   "metadata": {},
   "outputs": [
    {
     "name": "stdout",
     "output_type": "stream",
     "text": [
      "Celkový počet komentářů: 54635811\n"
     ]
    }
   ],
   "source": [
    "# Celkový počet komentářů\n",
    "total_comments = sum(comments)\n",
    "print(f\"Celkový počet komentářů: {total_comments}\")\n"
   ]
  },
  {
   "cell_type": "code",
   "execution_count": 16,
   "metadata": {},
   "outputs": [
    {
     "name": "stdout",
     "output_type": "stream",
     "text": [
      "Celkový počet slov ve všech článcích: 132330788\n"
     ]
    }
   ],
   "source": [
    "# Celkový počet slov ve všech článcích\n",
    "words = []\n",
    "for article in articles:\n",
    "    words.extend(article[\"content\"].split())\n",
    "total_words = len(words)\n",
    "print(f\"Celkový počet slov ve všech článcích: {total_words}\")"
   ]
  },
  {
   "cell_type": "markdown",
   "metadata": {},
   "source": [
    "# Bonus"
   ]
  },
  {
   "cell_type": "code",
   "execution_count": 17,
   "metadata": {},
   "outputs": [
    {
     "name": "stdout",
     "output_type": "stream",
     "text": [
      "8 nejčastějších slov v článcích (6+ znaků):\n",
      "mluvčí: 153725\n",
      "jejich: 132696\n",
      "policie: 108986\n",
      "protože: 107914\n",
      "například: 106295\n",
      "několik: 83231\n",
      "kterou: 73324\n",
      "policejní: 71703\n"
     ]
    }
   ],
   "source": [
    "# 8 nejčastějších slov v článcích (6+ znaků)\n",
    "words = []\n",
    "for article in articles:\n",
    "    words.extend(article[\"content\"].split())\n",
    "words = [word for word in words if len(word) >= 6]\n",
    "words_count = Counter(words)\n",
    "most_common_words = words_count.most_common(8)\n",
    "print(\"8 nejčastějších slov v článcích (6+ znaků):\")\n",
    "for word, count in most_common_words:\n",
    "    print(f\"{word}: {count}\")\n"
   ]
  },
  {
   "cell_type": "code",
   "execution_count": 18,
   "metadata": {},
   "outputs": [
    {
     "name": "stdout",
     "output_type": "stream",
     "text": [
      "3 články s nejvyččím počtem výskytů slova 'Covid-19':\n",
      "Jak na koronavirus? Má pomoci zkušenost z boje proti AIDS, malárii či ebole: 16 výskytů\n",
      "Otázky a odpovědi: Jak mají rodiče naložit s průběhem COVID-19 u dětí: 16 výskytů\n",
      "Španělsko má nejmíň nových obětí za měsíc, Kurz svolal lídry úspěšných zemí: 15 výskytů\n"
     ]
    }
   ],
   "source": [
    "# Vypište 3 články s nejvyččím počtem výskytů slova \"Covid-19\"\n",
    "articles_covid = []\n",
    "word = \"covid-19\"\n",
    "for article in articles:\n",
    "    if word.lower() in article[\"content\"].lower():\n",
    "        articles_covid.append(article)\n",
    "articles_covid = sorted(articles_covid, key=lambda x: x[\"content\"].lower().count(word.lower()), reverse=True)\n",
    "print(\"3 články s nejvyččím počtem výskytů slova 'Covid-19':\")\n",
    "for article in articles_covid[:3]:\n",
    "    print(f\"{article['title']}: {article['content'].lower().count(word.lower())} výskytů\")"
   ]
  },
  {
   "cell_type": "code",
   "execution_count": 27,
   "metadata": {},
   "outputs": [
    {
     "name": "stdout",
     "output_type": "stream",
     "text": [
      "Článek: Václav Klaus (56 let): Odpovědi 70 - 117, počet slov: 20891\n",
      "Článek: Na Litoměřicku při požáru bytu zemřela seniorka, patrně kouřila v posteli, počet slov: 31\n",
      "„Přesnou příčinu vzniku požáru potvrdí další vyšetřování,“ uvedl mluvčí hasičů Tomáš Kalvoda. Požár byl hasičům nahlášen v 19:15, likvidaci vyhlásili krátce po 20. hodině. Oheň odhadem způsobil škodu půl milionu korun.\n"
     ]
    }
   ],
   "source": [
    "# vypište články s nejvyšším a nejnižším počtem slov\n",
    "articles = sorted(articles, key=lambda x: len(x[\"content\"].split()))\n",
    "# ODFILTROVAT TY s 0 slovy\n",
    "articles = [article for article in articles if len(article[\"content\"].split()) > 15]\n",
    "print(f\"Článek: {articles[-1]['title']}, počet slov: {len(articles[-1]['content'].split())}\")\n",
    "print(f\"Článek: {articles[0]['title']}, počet slov: {len(articles[0]['content'].split())}\")\n",
    "print(articles[0][\"content\"])\n"
   ]
  },
  {
   "cell_type": "code",
   "execution_count": 32,
   "metadata": {},
   "outputs": [
    {
     "name": "stdout",
     "output_type": "stream",
     "text": [
      "Průměrná délka slova přes všechny články: 5.614289830020591\n"
     ]
    }
   ],
   "source": [
    "# Průměrná délka slova přes všechny články\n",
    "words = []\n",
    "for article in articles:\n",
    "    words.extend(article[\"title\"].split())\n",
    "    words.extend(article[\"content\"].split())\n",
    "word_lengths = [len(word) for word in words]\n",
    "average_word_length = sum(word_lengths) / len(word_lengths)\n",
    "print(f\"Průměrná délka slova přes všechny články: {average_word_length}\")\n"
   ]
  },
  {
   "cell_type": "code",
   "execution_count": 30,
   "metadata": {},
   "outputs": [
    {
     "name": "stdout",
     "output_type": "stream",
     "text": [
      "Měsíc s nejvíce publikovanými články: 3 (34926 článků)\n",
      "Měsíc s nejméně publikovanými články: 12 (30392 článků)\n"
     ]
    },
    {
     "data": {
      "image/png": "[encoded data removed]",
      "text/plain": [
       "<Figure size 640x480 with 1 Axes>"
      ]
     },
     "metadata": {},
     "output_type": "display_data"
    }
   ],
   "source": [
    "# Vypište měsíce s nejvíce a nejméně publikovanými články\n",
    "months_count = defaultdict(int)\n",
    "for date in datetime_dates:\n",
    "    months_count[date.month] += 1\n",
    "months_count = dict(months_count)\n",
    "max_month = max(months_count, key=months_count.get)\n",
    "min_month = min(months_count, key=months_count.get)\n",
    "print(f\"Měsíc s nejvíce publikovanými články: {max_month} ({months_count[max_month]} článků)\")\n",
    "print(f\"Měsíc s nejméně publikovanými články: {min_month} ({months_count[min_month]} článků)\")\n",
    "\n",
    "# Vytvořte graf počtu článků podle měsíce publikace\n",
    "\n",
    "months_count = dict(sorted(months_count.items()))\n",
    "plt.bar(months_count.keys(), months_count.values())\n",
    "plt.xlabel(\"Měsíc\")\n",
    "plt.ylabel(\"Počet článků\")\n",
    "plt.title(\"Počet článků podle měsíce publikace\")\n",
    "plt.show()\n",
    "\n"
   ]
  },
  {
   "cell_type": "code",
   "execution_count": null,
   "metadata": {},
   "outputs": [],
   "source": []
  }
 ],
 "metadata": {
  "kernelspec": {
   "display_name": "venv",
   "language": "python",
   "name": "python3"
  },
  "language_info": {
   "codemirror_mode": {
    "name": "ipython",
    "version": 3
   },
   "file_extension": ".py",
   "mimetype": "text/x-python",
   "name": "python",
   "nbconvert_exporter": "python",
   "pygments_lexer": "ipython3",
   "version": "3.10.12"
  }
 },
 "nbformat": 4,
 "nbformat_minor": 2
}
